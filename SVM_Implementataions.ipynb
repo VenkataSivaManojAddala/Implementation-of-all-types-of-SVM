{
 "cells": [
  {
   "cell_type": "code",
   "execution_count": 60,
   "id": "f1f5aaee",
   "metadata": {},
   "outputs": [],
   "source": [
    "##SVM"
   ]
  },
  {
   "cell_type": "code",
   "execution_count": 61,
   "id": "d544f0c7",
   "metadata": {},
   "outputs": [],
   "source": [
    "import warnings\n",
    "\n",
    "warnings.filterwarnings('ignore')"
   ]
  },
  {
   "cell_type": "markdown",
   "id": "cc281f69",
   "metadata": {},
   "source": [
    "1. Linear SVM - HARD MARGIN"
   ]
  },
  {
   "cell_type": "code",
   "execution_count": 72,
   "id": "309e2458",
   "metadata": {},
   "outputs": [
    {
     "name": "stdout",
     "output_type": "stream",
     "text": [
      "The status of the problem is:  optimal\n",
      "The omega valyes are:  [0.11130448 0.10212369]\n",
      "The gama value is 13.296207095417646\n"
     ]
    },
    {
     "data": {
      "image/png": "[encoded data removed]",
      "text/plain": [
       "<Figure size 640x480 with 1 Axes>"
      ]
     },
     "metadata": {},
     "output_type": "display_data"
    }
   ],
   "source": [
    "import cvxpy as cp\n",
    "import pandas as pd\n",
    "import matplotlib.pyplot as plt\n",
    "#importing the dataset\n",
    "df = pd.read_csv('Linear.csv')# loading the linear dataset\n",
    "df.columns\n",
    "y=df['label']# giving the output as label  from te dataset to the y\n",
    "x=df.drop(columns='label')# and by dropping the y column from the data giving the rest of the data to x\n",
    "                           \n",
    "x = np.array(x)#converting into numeric array\n",
    "\n",
    "y=y.replace(0,-1)#we are replacing the values in y from 0 to 1\n",
    "d=np.diag(y)\n",
    "e=np.ones(x.shape[0])\n",
    "#The variables which are to be found and unknown \n",
    "w=cp.Variable(x.shape[1]) # finding the omega values\n",
    "r=cp.Variable() # finding the gama value\n",
    "#Now the optimisation problem starts:\n",
    "obj=(0.5*cp.norm(w)**2)\n",
    "obj=cp.Minimize(obj)\n",
    "const=[(cp.matmul(d,(cp.matmul(x,w) - r*e)))>=e]\n",
    "\n",
    "prob=cp.Problem(obj,const)\n",
    "prob.solve()\n",
    "import seaborn as sns\n",
    "sns.scatterplot(data=df,x='x',y='y',hue='label')\n",
    "\n",
    "print(\"The status of the problem is: \",prob.status)\n",
    "print(\"The omega valyes are: \",w.value)\n",
    "print(\"The gama value is\",r.value)"
   ]
  },
  {
   "cell_type": "markdown",
   "id": "cb3332f1",
   "metadata": {},
   "source": [
    "2.L1 Soft Margin:"
   ]
  },
  {
   "cell_type": "code",
   "execution_count": null,
   "id": "2c2e8008",
   "metadata": {},
   "outputs": [],
   "source": [
    "Seed = 200\n",
    "def g_d(n):\n",
    "    np.random.seed(Seed)\n",
    "    x1 = np.random.normal(2,1,(2,n))\n",
    "    x2 = np.random.normal(-2,1,(2,n))\n",
    "    y1 = np.ones(n)\n",
    "    y2 = np.ones(n)*-1\n",
    "    return x1,y1,x2,y2\n",
    "n = 20\n",
    "x1,y1,x2,y2 = g_d(n)\n",
    "x1 = np.transpose(x1)\n",
    "x2 = np.transpose(x2)\n",
    "x = np.vstack((x1,x2))\n",
    "y = np.hstack((y1,y2))\n",
    "D = np.diag(y)\n",
    "L = len(x)\n",
    "e = np.ones(L)\n",
    "\n",
    "w = cp.Variable(2)\n",
    "slack = cp.Variable(L)\n",
    "g = cp.Variable()\n",
    "c = 1.05\n",
    "\n",
    "obj = cp.Minimize(0.5*cp.norm(w)**2+c*np.transpose(e)*slack)\n",
    "cons = [np.matmul(D,x*w+e*g)+slack>=e,slack>=0]\n",
    "prob = cp.Problem(obj,cons)\n",
    "soln = prob.solve()\n",
    "print(\"The status of the problem is: \",prob.status)\n",
    "print(\"The omega valyes are: \",w.value)\n",
    "print(\"The gama value is\",g.value)\n",
    "\n",
    "import seaborn as sns\n",
    "df=pd.DataFrame({'x':x[:,0], 'y':x[:,1], 'class':y})\n",
    "sns.scatterplot(data=df,x='x',y='y',hue='class')"
   ]
  },
  {
   "cell_type": "markdown",
   "id": "bd6d2342",
   "metadata": {},
   "source": [
    "2.1: L1 soft margin for non linear dataset"
   ]
  },
  {
   "cell_type": "code",
   "execution_count": 113,
   "id": "2aad4a65",
   "metadata": {},
   "outputs": [
    {
     "name": "stdout",
     "output_type": "stream",
     "text": [
      "The status of the problem is:  optimal\n",
      "The omega valyes are:  [ 0.00403354 -1.00567162  0.67746509 -0.01469462 -0.00150656  0.18362839\n",
      "  0.11866719  0.01299922 -0.60808524 -0.46294969  0.41742414 -0.51752846\n",
      " -0.84529681]\n",
      "The gama value is [2.69371617]\n"
     ]
    }
   ],
   "source": [
    "Seed = 200\n",
    "df = pd.read_csv('heart.csv')# loading the linear dataset\n",
    "df.columns\n",
    "y=df['output']# giving the output as label  from te dataset to the y\n",
    "x=df.drop(columns='output')# and by dropping the y column from the data giving the rest of the data to x\n",
    "                           \n",
    "x = np.array(x)#converting into numeric array\n",
    "\n",
    "y=y.replace(0,-1)#we are replacing the values in y from 0 to 1\n",
    "D = np.diag(y)\n",
    "L = len(x)\n",
    "e = np.ones(L)\n",
    "\n",
    "\n",
    "w = cp.Variable(x.shape[1])\n",
    "slack = cp.Variable(x.shape[0])\n",
    "g = cp.Variable(1)\n",
    "c = 1.05\n",
    "\n",
    "obj = cp.Minimize(0.5*cp.norm(w)**2+c*np.transpose(e)*slack)\n",
    "cons = [np.matmul(D,x*w+e*g)+slack>=e,slack>=0]\n",
    "prob = cp.Problem(obj,cons)\n",
    "soln = prob.solve()\n",
    "print(\"The status of the problem is: \",prob.status)\n",
    "print(\"The omega valyes are: \",w.value)\n",
    "print(\"The gama value is\",g.value)\n",
    "\n"
   ]
  },
  {
   "cell_type": "markdown",
   "id": "e71fb016",
   "metadata": {},
   "source": [
    "3. L2 method:"
   ]
  },
  {
   "cell_type": "code",
   "execution_count": 104,
   "id": "7e4d6f09",
   "metadata": {},
   "outputs": [
    {
     "name": "stdout",
     "output_type": "stream",
     "text": [
      "The status of the problem is:  optimal\n",
      "The omega values are:  [0.1825751  0.23312787]\n",
      "The gama value is 0.07002081303425323\n"
     ]
    },
    {
     "data": {
      "text/plain": [
       "<AxesSubplot:xlabel='x', ylabel='y'>"
      ]
     },
     "execution_count": 104,
     "metadata": {},
     "output_type": "execute_result"
    },
    {
     "data": {
      "image/png": "[encoded data removed]",
      "text/plain": [
       "<Figure size 640x480 with 1 Axes>"
      ]
     },
     "metadata": {},
     "output_type": "display_data"
    }
   ],
   "source": [
    "Seed = 200\n",
    "def g_d(n):\n",
    "    np.random.seed(Seed)\n",
    "    x1 = np.random.normal(2,1,(2,n))\n",
    "    x2 = np.random.normal(-2,1,(2,n))\n",
    "    y1 = np.ones(n)\n",
    "    y2 = np.ones(n)*-1\n",
    "    return x1,y1,x2,y2\n",
    "n = 20\n",
    "x1,y1,x2,y2 = g_d(n)\n",
    "x1 = np.transpose(x1)\n",
    "x2 = np.transpose(x2)\n",
    "x = np.vstack((x1,x2))\n",
    "y = np.hstack((y1,y2))\n",
    "D = np.diag(y)\n",
    "L = len(x)\n",
    "e = np.ones(L)\n",
    "\n",
    "w = cp.Variable(2)\n",
    "slack = cp.Variable(L)\n",
    "g = cp.Variable()\n",
    "c = 1.05\n",
    "obj = cp.Minimize(0.5*cp.norm(w)**2+(c/2)*cp.norm(slack))\n",
    "cons = [np.matmul(D,x*w - e*g)+slack==e]\n",
    "prob = cp.Problem(obj,cons)\n",
    "soln = prob.solve()\n",
    "print(\"The status of the problem is: \",prob.status)\n",
    "print(\"The omega values are: \",w.value)\n",
    "print(\"The gama value is\",g.value)\n",
    "\n",
    "import seaborn as sns\n",
    "df=pd.DataFrame({'x':x[:,0], 'y':x[:,1], 'class':y})\n",
    "sns.scatterplot(data=df,x='x',y='y',hue='class')"
   ]
  },
  {
   "cell_type": "markdown",
   "id": "cac77834",
   "metadata": {},
   "source": [
    "3.1: L2 soft margin for non linear dataset"
   ]
  },
  {
   "cell_type": "code",
   "execution_count": 109,
   "id": "f698e4bc",
   "metadata": {},
   "outputs": [
    {
     "name": "stdout",
     "output_type": "stream",
     "text": [
      "The status of the problem is:  optimal\n",
      "The omega valyes are:  [-9.02661250e-12  1.44517368e-11 -7.78477281e-11  7.80347657e-11\n",
      "  6.10321532e-10  1.83660723e-10  2.70487257e-11  1.82705409e-08\n",
      " -6.09899776e-10  2.82056028e-10 -8.65192031e-12  3.90320209e-10]\n",
      "The gama value is [1.]\n"
     ]
    }
   ],
   "source": [
    "Seed = 200\n",
    "df = pd.read_csv('new_test.csv')# loading the linear dataset\n",
    "df.columns\n",
    "y=df['poutcome']# giving the output as label  from te dataset to the y\n",
    "x=df.drop(columns='poutcome')# and by dropping the y column from the data giving the rest of the data to x\n",
    "                           \n",
    "x = np.array(x)#converting into numeric array\n",
    "\n",
    "y=y.replace(0,-1)#we are replacing the values in y from 0 to 1\n",
    "D = np.diag(y)\n",
    "L = len(x)\n",
    "e = np.ones(L)\n",
    "\n",
    "\n",
    "w = cp.Variable(x.shape[1])\n",
    "slack = cp.Variable(x.shape[0])\n",
    "g = cp.Variable(1)\n",
    "c = 1.05\n",
    "\n",
    "obj = cp.Minimize(0.5*cp.norm(w)**2+(c/2)*cp.norm(slack))\n",
    "cons = [np.matmul(D,x*w - e*g)+slack==e]\n",
    "prob = cp.Problem(obj,cons)\n",
    "soln = prob.solve()\n",
    "print(\"The status of the problem is: \",prob.status)\n",
    "print(\"The omega valyes are: \",w.value)\n",
    "print(\"The gama value is\",g.value)\n",
    "\n",
    "\n"
   ]
  },
  {
   "cell_type": "markdown",
   "id": "48449699",
   "metadata": {},
   "source": [
    "4.Proximal SVM"
   ]
  },
  {
   "cell_type": "code",
   "execution_count": 105,
   "id": "5bcc444a",
   "metadata": {},
   "outputs": [
    {
     "name": "stdout",
     "output_type": "stream",
     "text": [
      "The status of the problem is:  optimal\n",
      "The omega values are:  [0.18247564 0.23299814]\n",
      "The gama value is 0.06320946552218139\n"
     ]
    },
    {
     "data": {
      "text/plain": [
       "<AxesSubplot:xlabel='x', ylabel='y'>"
      ]
     },
     "execution_count": 105,
     "metadata": {},
     "output_type": "execute_result"
    },
    {
     "data": {
      "image/png": "[encoded data removed]",
      "text/plain": [
       "<Figure size 640x480 with 1 Axes>"
      ]
     },
     "metadata": {},
     "output_type": "display_data"
    }
   ],
   "source": [
    "Seed = 200\n",
    "def g_d(n):\n",
    "    np.random.seed(Seed)\n",
    "    x1 = np.random.normal(2,1,(2,n))\n",
    "    x2 = np.random.normal(-2,1,(2,n))\n",
    "    y1 = np.ones(n)\n",
    "    y2 = np.ones(n)*-1\n",
    "    return x1,y1,x2,y2\n",
    "n = 20\n",
    "x1,y1,x2,y2 = g_d(n)\n",
    "x1 = np.transpose(x1)\n",
    "x2 = np.transpose(x2)\n",
    "x = np.vstack((x1,x2))\n",
    "y = np.hstack((y1,y2))\n",
    "D = np.diag(y)\n",
    "L = len(x)\n",
    "e = np.ones(L)\n",
    "\n",
    "w = cp.Variable(2)\n",
    "slack = cp.Variable(L)\n",
    "g = cp.Variable()\n",
    "c = 1.05\n",
    "obj = cp.Minimize(0.5*(cp.norm(w)**2 + g**2)+(c/2)*cp.norm(slack))\n",
    "cons = [np.matmul(D,x*w - e*g)+slack==e]\n",
    "prob = cp.Problem(obj,cons)\n",
    "soln = prob.solve()\n",
    "print(\"The status of the problem is: \",prob.status)\n",
    "print(\"The omega values are: \",w.value)\n",
    "print(\"The gama value is\",g.value)\n",
    "\n",
    "import seaborn as sns\n",
    "df=pd.DataFrame({'x':x[:,0], 'y':x[:,1], 'class':y})\n",
    "sns.scatterplot(data=df,x='x',y='y',hue='class')"
   ]
  },
  {
   "cell_type": "markdown",
   "id": "6cdeb263",
   "metadata": {},
   "source": [
    "4.Proximal SVM for non linear dataset"
   ]
  },
  {
   "cell_type": "code",
   "execution_count": 114,
   "id": "0e921127",
   "metadata": {},
   "outputs": [
    {
     "name": "stdout",
     "output_type": "stream",
     "text": [
      "The status of the problem is:  optimal\n",
      "The omega valyes are:  [ 0.00087941 -0.28908436  0.22111891 -0.00346565 -0.00054703  0.00825903\n",
      "  0.09480127  0.00797477 -0.21229524 -0.12843368  0.12862583 -0.19443423\n",
      " -0.21192147]\n",
      "The gama value is [-0.02430339]\n"
     ]
    }
   ],
   "source": [
    "Seed = 200\n",
    "df = pd.read_csv('heart.csv')# loading the linear dataset\n",
    "df.columns\n",
    "y=df['output']# giving the output as label  from te dataset to the y\n",
    "x=df.drop(columns='output')# and by dropping the y column from the data giving the rest of the data to x\n",
    "                           \n",
    "x = np.array(x)#converting into numeric array\n",
    "\n",
    "y=y.replace(0,-1)#we are replacing the values in y from 0 to 1\n",
    "D = np.diag(y)\n",
    "L = len(x)\n",
    "e = np.ones(L)\n",
    "\n",
    "w = cp.Variable(x.shape[1])\n",
    "slack = cp.Variable(x.shape[0])\n",
    "g = cp.Variable(1)\n",
    "c = 1.05\n",
    "\n",
    "obj = cp.Minimize(0.5*(cp.norm(w)**2 + g**2)+(c/2)*cp.norm(slack))\n",
    "cons = [np.matmul(D,x*w - e*g)+slack==e]\n",
    "prob = cp.Problem(obj,cons)\n",
    "soln = prob.solve()\n",
    "print(\"The status of the problem is: \",prob.status)\n",
    "print(\"The omega valyes are: \",w.value)\n",
    "print(\"The gama value is\",g.value)\n",
    "\n"
   ]
  },
  {
   "cell_type": "markdown",
   "id": "2faa85b9",
   "metadata": {},
   "source": [
    "APPLICATION#1 : Heart Disease Prediction"
   ]
  },
  {
   "cell_type": "code",
   "execution_count": null,
   "id": "0ae748b7",
   "metadata": {},
   "outputs": [],
   "source": [
    "import numpy as np\n",
    "import pandas as pd\n",
    "from sklearn.model_selection import train_test_split\n",
    "from sklearn import metrics as sm\n",
    "from sklearn.svm import SVC\n",
    "from sklearn import datasets as dm\n",
    "import matplotlib.pyplot as plt\n",
    "import warnings\n",
    "warnings.filterwarnings('ignore')\n",
    "\n",
    "df = pd.read_csv('heart.csv')\n",
    "df.columns\n",
    "y=df['output']\n",
    "x=df.drop(columns='output')\n",
    "[X_train,X_test,Y_train,Y_test] = train_test_split(x,y,test_size=0.3,random_state=8)\n",
    "svc = SVC()\n",
    "#svc = SVC(kernel='rbf', C=float(\"inf\"))\n",
    "svc.fit(X_train,Y_train)\n",
    "y_pred = svc.predict(X_test)\n",
    "print(\"Confusion Matrix:\")\n",
    "print(sm.confusion_matrix(Y_test,y_pred))\n",
    "print(\"Accuracy Score: \")\n",
    "print(sm.accuracy_score(Y_test,y_pred))\n",
    "print(\"Complete Report\")\n",
    "print(sm.classification_report(Y_test,y_pred))\n",
    "\n"
   ]
  },
  {
   "cell_type": "markdown",
   "id": "468c2c91",
   "metadata": {},
   "source": [
    "APPLICATION#2 :Non linear data structure using KERNELS:"
   ]
  },
  {
   "cell_type": "code",
   "execution_count": 1,
   "id": "a5b49954",
   "metadata": {},
   "outputs": [
    {
     "name": "stdout",
     "output_type": "stream",
     "text": [
      "Linear kernel Training accuracy:  0.9666666666666667\n",
      "Linear kernel Testing accuracy:  0.9666666666666667\n",
      "Polynomial kernel Training accuracy:  0.9\n",
      "Polynomial kernel Testing accuracy:  0.9\n",
      "RBF kernel Training accuracy:  0.9166666666666666\n",
      "RBF kernel Testing accuracy:  0.9166666666666666\n",
      "Sigmoid kernel Training accuracy:  0.26666666666666666\n",
      "Sigmoid kernel Testing accuracy:  0.26666666666666666\n"
     ]
    }
   ],
   "source": [
    "from sklearn import datasets\n",
    "from sklearn.model_selection import train_test_split\n",
    "from sklearn import svm\n",
    "from sklearn import metrics as sm\n",
    "\n",
    "\n",
    "iris = datasets.load_iris()\n",
    "X = iris.data\n",
    "y = iris.target\n",
    "\n",
    "X_train, X_test, y_train, y_test = train_test_split(X, y, test_size=0.4, random_state=0)\n",
    "\n",
    "# Training with a linear kernel\n",
    "linear_svc = svm.SVC(kernel='linear', C=1).fit(X_train, y_train)\n",
    "linear_accuracy = linear_svc.score(X_test, y_test)\n",
    "y_pred = linear_svc.predict(X_test)\n",
    "accuracy_1 = sm.accuracy_score(y_test, y_pred)\n",
    "\n",
    "# Training with a polynomial kernel\n",
    "poly_svc = svm.SVC(kernel='poly', degree=3, C=1).fit(X_train, y_train)\n",
    "poly_accuracy = poly_svc.score(X_test, y_test)\n",
    "y_pred = poly_svc.predict(X_test)\n",
    "accuracy_2 = sm.accuracy_score(y_test, y_pred)\n",
    "\n",
    "# Training with a RBF kernel\n",
    "rbf_svc = svm.SVC(kernel='rbf', gamma=0.7, C=1).fit(X_train, y_train)\n",
    "rbf_accuracy = rbf_svc.score(X_test, y_test)\n",
    "y_pred = rbf_svc.predict(X_test)\n",
    "accuracy_3 = sm.accuracy_score(y_test, y_pred)\n",
    "\n",
    "# Training with a sigmoid kernel\n",
    "sig_svc = svm.SVC(kernel='sigmoid', gamma='auto', C=1).fit(X_train, y_train)\n",
    "sig_accuracy = sig_svc.score(X_test, y_test)\n",
    "y_pred = sig_svc.predict(X_test)\n",
    "accuracy_4 = sm.accuracy_score(y_test, y_pred)\n",
    "\n",
    "print(\"Linear kernel Training accuracy: \", linear_accuracy)\n",
    "print(\"Linear kernel Testing accuracy: \",accuracy_1)\n",
    "print(\"Polynomial kernel Training accuracy: \", poly_accuracy)\n",
    "print(\"Polynomial kernel Testing accuracy: \",accuracy_2)\n",
    "print(\"RBF kernel Training accuracy: \", rbf_accuracy)\n",
    "print(\"RBF kernel Testing accuracy: \",accuracy_3)\n",
    "print(\"Sigmoid kernel Training accuracy: \", sig_accuracy)\n",
    "print(\"Sigmoid kernel Testing accuracy: \",accuracy_4)"
   ]
  },
  {
   "cell_type": "markdown",
   "id": "808721e2",
   "metadata": {},
   "source": [
    "APPLICATION#5 : Prefect classification for inbuilt dataset to get accuracy 1"
   ]
  },
  {
   "cell_type": "code",
   "execution_count": 9,
   "id": "e25645f4",
   "metadata": {},
   "outputs": [
    {
     "name": "stdout",
     "output_type": "stream",
     "text": [
      "[[19  0  0]\n",
      " [ 0 13  0]\n",
      " [ 0  0 13]]\n",
      "1.0\n",
      "              precision    recall  f1-score   support\n",
      "\n",
      "           0       1.00      1.00      1.00        19\n",
      "           1       1.00      1.00      1.00        13\n",
      "           2       1.00      1.00      1.00        13\n",
      "\n",
      "    accuracy                           1.00        45\n",
      "   macro avg       1.00      1.00      1.00        45\n",
      "weighted avg       1.00      1.00      1.00        45\n",
      "\n"
     ]
    }
   ],
   "source": [
    "from sklearn import datasets\n",
    "from sklearn.model_selection import train_test_split\n",
    "from sklearn.svm import SVC\n",
    "from sklearn import metrics as sm\n",
    "\n",
    "# Load the iris dataset as an example\n",
    "iris = datasets.load_iris()\n",
    "X = iris.data\n",
    "y = iris.target\n",
    "[X_train,X_test,Y_train,Y_test] = train_test_split(X,y,test_size=0.3,random_state=42)\n",
    "svc=SVC()\n",
    "svc.fit(X_train,Y_train)\n",
    "y_pred = svc.predict(X_test)\n",
    "print(sm.confusion_matrix(Y_test,y_pred))\n",
    "print(sm.accuracy_score(Y_test,y_pred))\n",
    "print(sm.classification_report(Y_test,y_pred))"
   ]
  },
  {
   "cell_type": "markdown",
   "id": "219f5f22",
   "metadata": {},
   "source": [
    "APPLICATION#3 : Student Employability Classification"
   ]
  },
  {
   "cell_type": "code",
   "execution_count": 45,
   "id": "bfebf0b4",
   "metadata": {},
   "outputs": [
    {
     "name": "stdout",
     "output_type": "stream",
     "text": [
      "Confusion Matrix:\n",
      "[[327  58]\n",
      " [ 57 453]]\n",
      "Accuracy score:\n",
      "0.8715083798882681\n",
      "Complete report:\n",
      "              precision    recall  f1-score   support\n",
      "\n",
      "           0       0.85      0.85      0.85       385\n",
      "           1       0.89      0.89      0.89       510\n",
      "\n",
      "    accuracy                           0.87       895\n",
      "   macro avg       0.87      0.87      0.87       895\n",
      "weighted avg       0.87      0.87      0.87       895\n",
      "\n"
     ]
    }
   ],
   "source": [
    "#Student-Employability-classification Datasets\n",
    "df = pd.read_excel('Student-Employability-Datasets.xlsx')\n",
    "x=df.drop(columns='Name of Student') \n",
    "y=df['CLASS'] \n",
    "x=x.drop(columns='CLASS')\n",
    "\n",
    "y.replace('Employable',1,inplace=True)\n",
    "y.replace('LessEmployable',0,inplace=True)\n",
    "\n",
    "y=np.array(y)\n",
    "x=np.array(x)\n",
    "[X_train,X_test,Y_train,Y_test] = train_test_split(x,y,test_size=0.3,random_state=6)\n",
    "svc = SVC()\n",
    "#svc = SVC(kernel='linear', C=float(\"inf\"))\n",
    "svc.fit(X_train,Y_train)\n",
    "ypred = svc.predict(X_test)\n",
    "svc=SVC()\n",
    "svc.fit(X_train,Y_train)\n",
    "y_pred = svc.predict(X_test)\n",
    "print(\"Confusion Matrix:\")\n",
    "print(sm.confusion_matrix(Y_test,y_pred))\n",
    "print(\"Accuracy score:\")\n",
    "print(sm.accuracy_score(Y_test,y_pred))\n",
    "print(\"Complete report:\")\n",
    "print(sm.classification_report(Y_test,y_pred))\n"
   ]
  }
 ],
 "metadata": {
  "kernelspec": {
   "display_name": "Python 3 (ipykernel)",
   "language": "python",
   "name": "python3"
  },
  "language_info": {
   "codemirror_mode": {
    "name": "ipython",
    "version": 3
   },
   "file_extension": ".py",
   "mimetype": "text/x-python",
   "name": "python",
   "nbconvert_exporter": "python",
   "pygments_lexer": "ipython3",
   "version": "3.9.13"
  }
 },
 "nbformat": 4,
 "nbformat_minor": 5
}
